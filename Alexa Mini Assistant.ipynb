{
 "cells": [
  {
   "cell_type": "code",
   "execution_count": 8,
   "metadata": {},
   "outputs": [
    {
     "name": "stdout",
     "output_type": "stream",
     "text": [
      "ALEXA-121329.mp3\n",
      "what is your name\n",
      "ALEXA-1063958.mp3\n",
      "what time is it\n",
      "ALEXA-1592848.mp3\n",
      "PicsArt\n",
      "ALEXA-361654.mp3\n",
      "\n",
      "exit\n",
      "ALEXA-1071686.mp3\n"
     ]
    },
    {
     "ename": "SystemExit",
     "evalue": "1",
     "output_type": "error",
     "traceback": [
      "An exception has occurred, use %tb to see the full traceback.\n",
      "\u001b[1;31mSystemExit\u001b[0m\u001b[1;31m:\u001b[0m 1\n"
     ]
    },
    {
     "name": "stderr",
     "output_type": "stream",
     "text": [
      "C:\\Users\\Sushilkumar\\Anaconda3\\lib\\site-packages\\IPython\\core\\interactiveshell.py:3334: UserWarning: To exit: use 'exit', 'quit', or Ctrl-D.\n",
      "  warn(\"To exit: use 'exit', 'quit', or Ctrl-D.\", stacklevel=1)\n"
     ]
    }
   ],
   "source": [
    "#conda install -c anaconda pyaudio\n",
    "import speech_recognition as sr\n",
    "import pyaudio\n",
    "from time import ctime\n",
    "import webbrowser\n",
    "import time\n",
    "import playsound\n",
    "import os\n",
    "import random\n",
    "from gtts import gTTS\n",
    "import sys\n",
    "\n",
    "\n",
    "r=sr.Recognizer()\n",
    "\n",
    "def record_audio(ask=False):\n",
    "    with sr.Microphone() as source:\n",
    "        if ask:\n",
    "            print(ask)\n",
    "            alexa_speak(ask)\n",
    "        audio=r.listen(source)\n",
    "        voice_data=''\n",
    "        try:\n",
    "            voice_data=r.recognize_google(audio)\n",
    "            #print(voice_data)\n",
    "        except sr.UnknownValueError:\n",
    "           # print('Sorry I did not get that')\n",
    "             alexa_speak('Sorry I did not get that')\n",
    "        except sr.RequestError:\n",
    "           # print('Sorry Speech Service Down')\n",
    "            alexa_speak('Sorry Speech Service Down')\n",
    "        return voice_data\n",
    "    \n",
    "\n",
    "    \n",
    "def alexa_speak(audio_string):\n",
    "    tts=gTTS(text=audio_string,lang='en')\n",
    "    r=random.randint(1,2000000)\n",
    "    audio_file='ALEXA-'+ str(r) + '.mp3'\n",
    "    tts.save(audio_file)\n",
    "    playsound.playsound(audio_file)\n",
    "    print(audio_file)\n",
    "    os.remove(audio_file)\n",
    "    \n",
    "    \n",
    "    \n",
    "def respond(voice_data):\n",
    "    if 'what is your name' in voice_data:\n",
    "       # print(\"My name is Alexa\")\n",
    "         alexa_speak(\"My name is Alexa\")\n",
    "    if 'what time is it' in voice_data:\n",
    "        #print(ctime())\n",
    "        alexa_speak(ctime())\n",
    "    if 'search' in voice_data:\n",
    "        search=record_audio(\"Waht you would like to search\")\n",
    "        url='https://www.google.com/search?q='+search\n",
    "        webbrowser.get().open(url)\n",
    "       # print('Here what i found '+search)\n",
    "        alexa_speak('Here what i found '+search)\n",
    "    if 'exit' in voice_data:\n",
    "        alexa_speak('Bye Bye, Take care')\n",
    "        sys.exit(1)\n",
    "        \n",
    "    \n",
    "time.sleep(1)  \n",
    "alexa_speak(\"How can i help you\")\n",
    "while 1:\n",
    "    voice_data=record_audio()\n",
    "    print(voice_data)\n",
    "    respond(voice_data)\n"
   ]
  },
  {
   "cell_type": "code",
   "execution_count": null,
   "metadata": {},
   "outputs": [],
   "source": []
  },
  {
   "cell_type": "code",
   "execution_count": null,
   "metadata": {},
   "outputs": [],
   "source": []
  }
 ],
 "metadata": {
  "kernelspec": {
   "display_name": "Python 3",
   "language": "python",
   "name": "python3"
  },
  "language_info": {
   "codemirror_mode": {
    "name": "ipython",
    "version": 3
   },
   "file_extension": ".py",
   "mimetype": "text/x-python",
   "name": "python",
   "nbconvert_exporter": "python",
   "pygments_lexer": "ipython3",
   "version": "3.7.4"
  }
 },
 "nbformat": 4,
 "nbformat_minor": 2
}
