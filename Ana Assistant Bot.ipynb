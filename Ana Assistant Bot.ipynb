{
 "cells": [
  {
   "cell_type": "code",
   "execution_count": null,
   "metadata": {},
   "outputs": [],
   "source": [
    "import speech_recognition as sr \n",
    "import playsound \n",
    "from gtts import gTTS \n",
    "import random\n",
    "from time import ctime \n",
    "import ssl\n",
    "import certifi\n",
    "import time\n",
    "import os \n",
    "import sys"
   ]
  },
  {
   "cell_type": "code",
   "execution_count": 41,
   "metadata": {},
   "outputs": [
    {
     "name": "stdout",
     "output_type": "stream",
     "text": [
      "ANA: How may i help You\n",
      "user voice printing what's your name\n",
      "term:::what's your name\n",
      "ANA: my name is Ana. what's your name?\n",
      "user voice printing exit\n",
      "term:::exit\n",
      "ANA: Have a nice day,Bye Bye \n"
     ]
    },
    {
     "ename": "SystemExit",
     "evalue": "1",
     "output_type": "error",
     "traceback": [
      "An exception has occurred, use %tb to see the full traceback.\n",
      "\u001b[1;31mSystemExit\u001b[0m\u001b[1;31m:\u001b[0m 1\n"
     ]
    },
    {
     "name": "stderr",
     "output_type": "stream",
     "text": [
      "C:\\Users\\Sushilkumar\\Anaconda3\\lib\\site-packages\\IPython\\core\\interactiveshell.py:3334: UserWarning: To exit: use 'exit', 'quit', or Ctrl-D.\n",
      "  warn(\"To exit: use 'exit', 'quit', or Ctrl-D.\", stacklevel=1)\n"
     ]
    }
   ],
   "source": [
    "class userperson:\n",
    "    name = ''\n",
    "    def setName(self, name):\n",
    "        self.name = name\n",
    "\n",
    "def there_exists(terms):\n",
    "    for term in terms:\n",
    "        if term in voice_data:\n",
    "            print(\"term:::\"+term)\n",
    "            return True\n",
    "\n",
    "\n",
    "r = sr.Recognizer() \n",
    "\n",
    "# audio\n",
    "def record_audio(ask=False):\n",
    "    with sr.Microphone() as source: \n",
    "        if ask:\n",
    "            speak(ask)\n",
    "        audio = r.listen(source)  \n",
    "        voice_data = ''\n",
    "        try:\n",
    "            voice_data = r.recognize_google(audio)  \n",
    "        except sr.UnknownValueError: \n",
    "            speak('I did not get that')\n",
    "        except sr.RequestError:\n",
    "            speak('Sorry, the service is down') \n",
    "        print(f\"user voice printing {voice_data.lower()}\") # print what user said\n",
    "        return voice_data.lower()\n",
    "    \n",
    "# SPEAK function\n",
    "def speak(audio_string):\n",
    "    tts = gTTS(text=audio_string, lang='en') \n",
    "    r = random.randint(1,30000000)\n",
    "    audio_file = 'audio' + str(r) + '.mp3'\n",
    "    tts.save(audio_file) # save as mp3\n",
    "    playsound.playsound(audio_file) \n",
    "    print(f\"ANA: {audio_string}\") \n",
    "    os.remove(audio_file) \n",
    "    \n",
    "    \n",
    "def respond(voice_data):\n",
    "    # 1: greeting\n",
    "    if there_exists(['hey','hi','hello']):\n",
    "        greetings = [f\"hey, how can I help you {person_obj.name}\", f\"hey, what's up? {person_obj.name}\", f\"I'm listening you {person_obj.name}\", f\"Do you want me to do? {person_obj.name}\", f\"Can I do Something {person_obj.name}\"]\n",
    "        greet = greetings[random.randint(0,len(greetings)-1)]\n",
    "        speak(greet)\n",
    "    \n",
    "     # 2: Asking name to bot\n",
    "    if there_exists([\"what is your name\",\"what's your name\",\"tell me your name\",\"How may I address you\",\"may i have your name?\"]):\n",
    "        if person_obj.name:\n",
    "            speak(\"my name is Ana\")\n",
    "        else:\n",
    "            speak(\"my name is Ana. what's your name?\")\n",
    "\n",
    "    if there_exists([\"my name is\"]):\n",
    "        person_name = voice_data.split(\"is\")[-1].strip()\n",
    "        speak(f\"okay, i will remember that {person_name}\")\n",
    "        person_obj.setName(person_name) # remember username\n",
    "        \n",
    "     # 3: greeting\n",
    "    if there_exists([\"how are you\",\"how are you doing\"]):\n",
    "        speak(f\"I'm very well, thanks for asking {person_obj.name}\")\n",
    "        \n",
    "     # LAST   \n",
    "    if there_exists([\"exit\", \"quit\", \"goodbye\",\"bye\"]):\n",
    "        byeGreetings = [f\"Have a nice day,Bye Bye {person_obj.name}\", f\"See you later,bye {person_obj.name}\", f\"See you soon,bye{person_obj.name}\", f\"Have a nice day {person_obj.name}\", f\"It was nice seeing you,bye {person_obj.name}\"]\n",
    "        greetBye = byeGreetings[random.randint(0,len(byeGreetings)-1)]\n",
    "        speak(greetBye)\n",
    "        sys.exit(1)\n",
    "        \n",
    "time.sleep(1)\n",
    "person_obj = userperson()\n",
    "speak(\"How may i help You\")\n",
    "while(1):\n",
    "    voice_data = record_audio() #  voice input\n",
    "    respond(voice_data) # respond take lace\n",
    "       \n",
    "        \n",
    "   \n",
    "\n"
   ]
  },
  {
   "cell_type": "code",
   "execution_count": null,
   "metadata": {},
   "outputs": [],
   "source": []
  },
  {
   "cell_type": "code",
   "execution_count": null,
   "metadata": {},
   "outputs": [],
   "source": []
  },
  {
   "cell_type": "code",
   "execution_count": null,
   "metadata": {},
   "outputs": [],
   "source": []
  }
 ],
 "metadata": {
  "kernelspec": {
   "display_name": "Python 3",
   "language": "python",
   "name": "python3"
  },
  "language_info": {
   "codemirror_mode": {
    "name": "ipython",
    "version": 3
   },
   "file_extension": ".py",
   "mimetype": "text/x-python",
   "name": "python",
   "nbconvert_exporter": "python",
   "pygments_lexer": "ipython3",
   "version": "3.7.4"
  }
 },
 "nbformat": 4,
 "nbformat_minor": 2
}
