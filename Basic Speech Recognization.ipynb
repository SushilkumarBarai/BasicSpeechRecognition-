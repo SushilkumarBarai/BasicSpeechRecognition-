{
 "cells": [
  {
   "cell_type": "code",
   "execution_count": 8,
   "metadata": {},
   "outputs": [
    {
     "name": "stdout",
     "output_type": "stream",
     "text": [
      "Say Something,What Can i do for You\n",
      "Sorry I did not get that\n"
     ]
    }
   ],
   "source": [
    "#conda install -c anaconda pyaudio\n",
    "import speech_recognition as sr\n",
    "import pyaudio\n",
    "\n",
    "r=sr.Recognizer()\n",
    "\n",
    "with sr.Microphone() as source:\n",
    "    print(\"Say Something,What Can i do for You\")\n",
    "    audio=r.listen(source)\n",
    "    try:\n",
    "        voice_data=r.recognize_google(audio)\n",
    "        print(voice_data)\n",
    "    except sr.UnknownValueError:\n",
    "        print('Sorry I did not get that')\n",
    "    except sr.RequestError:\n",
    "        print('Sorry I did not get that')\n",
    "        \n",
    "        \n",
    "    \n"
   ]
  },
  {
   "cell_type": "code",
   "execution_count": null,
   "metadata": {},
   "outputs": [],
   "source": []
  },
  {
   "cell_type": "code",
   "execution_count": null,
   "metadata": {},
   "outputs": [],
   "source": []
  }
 ],
 "metadata": {
  "kernelspec": {
   "display_name": "Python 3",
   "language": "python",
   "name": "python3"
  },
  "language_info": {
   "codemirror_mode": {
    "name": "ipython",
    "version": 3
   },
   "file_extension": ".py",
   "mimetype": "text/x-python",
   "name": "python",
   "nbconvert_exporter": "python",
   "pygments_lexer": "ipython3",
   "version": "3.7.4"
  }
 },
 "nbformat": 4,
 "nbformat_minor": 2
}
