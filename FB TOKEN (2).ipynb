{
 "cells": [
  {
   "cell_type": "code",
   "execution_count": 3,
   "metadata": {},
   "outputs": [],
   "source": [
    "import sys\n",
    "from facebook_business.api import FacebookAdsApi\n",
    "from facebook_business.adobjects.adaccount import AdAccount\n",
    "import os\n",
    "from datetime import date, timedelta\n",
    "from pyfacebook import GraphAPI\n",
    "#pip install facebookads\n",
    "#accid=887522501893783"
   ]
  },
  {
   "cell_type": "code",
   "execution_count": null,
   "metadata": {},
   "outputs": [],
   "source": [
    "current_date = date.today()\n",
    "print(\"CURRENT DAY : \",current_date)\n",
    "print(\"OLD Date : \",current_date - timedelta(1))\n",
    "\n"
   ]
  },
  {
   "cell_type": "code",
   "execution_count": 8,
   "metadata": {},
   "outputs": [
    {
     "name": "stdout",
     "output_type": "stream",
     "text": [
      "[<Campaign> {\n",
      "    \"id\": \"23848217213320171\"\n",
      "}, <Campaign> {\n",
      "    \"id\": \"23848143596870171\"\n",
      "}, <Campaign> {\n",
      "    \"id\": \"23848095341010171\"\n",
      "}, <Campaign> {\n",
      "    \"id\": \"23847491735700171\"\n",
      "}, <Campaign> {\n",
      "    \"id\": \"23847491557430171\"\n",
      "}, <Campaign> {\n",
      "    \"id\": \"23847261466060171\"\n",
      "}, <Campaign> {\n",
      "    \"id\": \"23846998995050171\"\n",
      "}, <Campaign> {\n",
      "    \"id\": \"23846885283490171\"\n",
      "}, <Campaign> {\n",
      "    \"id\": \"23846830305610171\"\n",
      "}, <Campaign> {\n",
      "    \"id\": \"23846756535360171\"\n",
      "}, <Campaign> {\n",
      "    \"id\": \"23846691208980171\"\n",
      "}, <Campaign> {\n",
      "    \"id\": \"23846462809560171\"\n",
      "}, <Campaign> {\n",
      "    \"id\": \"23846087111520171\"\n",
      "}, <Campaign> {\n",
      "    \"id\": \"23846061771520171\"\n",
      "}, <Campaign> {\n",
      "    \"id\": \"23846053656960171\"\n",
      "}, <Campaign> {\n",
      "    \"id\": \"23845907112730171\"\n",
      "}, <Campaign> {\n",
      "    \"id\": \"23845906666700171\"\n",
      "}, <Campaign> {\n",
      "    \"id\": \"23845828385170171\"\n",
      "}, <Campaign> {\n",
      "    \"id\": \"23845828307950171\"\n",
      "}, <Campaign> {\n",
      "    \"id\": \"23845788794850171\"\n",
      "}, <Campaign> {\n",
      "    \"id\": \"23845755229200171\"\n",
      "}, <Campaign> {\n",
      "    \"id\": \"23845755202950171\"\n",
      "}, <Campaign> {\n",
      "    \"id\": \"23845611988670171\"\n",
      "}, <Campaign> {\n",
      "    \"id\": \"23845610368060171\"\n",
      "}, <Campaign> {\n",
      "    \"id\": \"23845593708230171\"\n",
      "}]\n"
     ]
    }
   ],
   "source": [
    "from facebook_business.api import FacebookAdsApi\n",
    "from facebook_business.adobjects.adaccount import AdAccount\n",
    "app_id = \"4105809612881349\"\n",
    "app_secret = \"b56b524bcdc71de0c8183269b5d17b4a\"\n",
    "access_token = \"EAA6WNkt9vcUBADzZBPGZA4EX9NpdJvfOeIFYfKt0zBYBdeNTpH5UZCk2o4OpqezbCZAfwe9UGki1MozysARY28J1KPXd9Ftc6mG9P45ZClw174EyAGyIe6SvmXVB4mpCylZAKab26HPCdmyj80nh1kBwjHC5dgdpWVW2Mo9hwLqVPS7ZCSEfwfInz2xRWcFe4RvGiWIBUtX2yvj65RwzS364KHQi4ZAjMSy5f5ylAZAIj0IL6vIthbb8cf9MDrs338jsZD\"\n",
    "FacebookAdsApi.init(app_id, app_secret, access_token)\n",
    "my_account = AdAccount('act_544627553005689')\n",
    "campaigns = my_account.get_campaigns()\n",
    "print(campaigns)"
   ]
  },
  {
   "cell_type": "code",
   "execution_count": 5,
   "metadata": {},
   "outputs": [
    {
     "ename": "FacebookRequestError",
     "evalue": "\n\n  Message: Call was not successful\n  Method:  GET\n  Path:    https://graph.facebook.com/v12.0/23845610368060171/insights\n  Params:  {'date_preset': 'yesterday', 'fields': '[\"Campaign name\"]'}\n\n  Status:  400\n  Response:\n    {\n      \"error\": {\n        \"message\": \"Syntax error \\\"Expected end of string instead of \\\"n\\\".\\\" at character 9: Campaign name\",\n        \"type\": \"OAuthException\",\n        \"code\": 2500,\n        \"fbtrace_id\": \"ANuwWMHEuMfx3Krtla-ebGm\"\n      }\n    }\n",
     "output_type": "error",
     "traceback": [
      "\u001b[1;31m---------------------------------------------------------------------------\u001b[0m",
      "\u001b[1;31mFacebookRequestError\u001b[0m                      Traceback (most recent call last)",
      "\u001b[1;32m<ipython-input-5-2e0f1c52c435>\u001b[0m in \u001b[0;36m<module>\u001b[1;34m\u001b[0m\n\u001b[0;32m     12\u001b[0m     \u001b[1;34m'date_preset'\u001b[0m\u001b[1;33m:\u001b[0m \u001b[1;34m'yesterday'\u001b[0m\u001b[1;33m,\u001b[0m\u001b[1;33m\u001b[0m\u001b[1;33m\u001b[0m\u001b[0m\n\u001b[0;32m     13\u001b[0m     'fields': ['Campaign name']}\n\u001b[1;32m---> 14\u001b[1;33m \u001b[0mresponse\u001b[0m \u001b[1;33m=\u001b[0m \u001b[0mcampaign\u001b[0m\u001b[1;33m.\u001b[0m\u001b[0mget_insights\u001b[0m\u001b[1;33m(\u001b[0m\u001b[0mparams\u001b[0m\u001b[1;33m=\u001b[0m\u001b[0mparams\u001b[0m\u001b[1;33m)\u001b[0m\u001b[1;33m\u001b[0m\u001b[1;33m\u001b[0m\u001b[0m\n\u001b[0m\u001b[0;32m     15\u001b[0m \u001b[0mprint\u001b[0m\u001b[1;33m(\u001b[0m\u001b[0mresponse\u001b[0m\u001b[1;33m)\u001b[0m\u001b[1;33m\u001b[0m\u001b[1;33m\u001b[0m\u001b[0m\n",
      "\u001b[1;32m~\\Anaconda3\\lib\\site-packages\\facebook_business\\adobjects\\campaign.py\u001b[0m in \u001b[0;36mget_insights\u001b[1;34m(self, fields, params, is_async, batch, success, failure, pending)\u001b[0m\n\u001b[0;32m    931\u001b[0m         \u001b[1;32melse\u001b[0m\u001b[1;33m:\u001b[0m\u001b[1;33m\u001b[0m\u001b[1;33m\u001b[0m\u001b[0m\n\u001b[0;32m    932\u001b[0m             \u001b[0mself\u001b[0m\u001b[1;33m.\u001b[0m\u001b[0massure_call\u001b[0m\u001b[1;33m(\u001b[0m\u001b[1;33m)\u001b[0m\u001b[1;33m\u001b[0m\u001b[1;33m\u001b[0m\u001b[0m\n\u001b[1;32m--> 933\u001b[1;33m             \u001b[1;32mreturn\u001b[0m \u001b[0mrequest\u001b[0m\u001b[1;33m.\u001b[0m\u001b[0mexecute\u001b[0m\u001b[1;33m(\u001b[0m\u001b[1;33m)\u001b[0m\u001b[1;33m\u001b[0m\u001b[1;33m\u001b[0m\u001b[0m\n\u001b[0m\u001b[0;32m    934\u001b[0m \u001b[1;33m\u001b[0m\u001b[0m\n\u001b[0;32m    935\u001b[0m     \u001b[1;32mdef\u001b[0m \u001b[0mget_insights_async\u001b[0m\u001b[1;33m(\u001b[0m\u001b[0mself\u001b[0m\u001b[1;33m,\u001b[0m \u001b[0mfields\u001b[0m\u001b[1;33m=\u001b[0m\u001b[1;32mNone\u001b[0m\u001b[1;33m,\u001b[0m \u001b[0mparams\u001b[0m\u001b[1;33m=\u001b[0m\u001b[1;32mNone\u001b[0m\u001b[1;33m,\u001b[0m \u001b[0mbatch\u001b[0m\u001b[1;33m=\u001b[0m\u001b[1;32mNone\u001b[0m\u001b[1;33m,\u001b[0m \u001b[0msuccess\u001b[0m\u001b[1;33m=\u001b[0m\u001b[1;32mNone\u001b[0m\u001b[1;33m,\u001b[0m \u001b[0mfailure\u001b[0m\u001b[1;33m=\u001b[0m\u001b[1;32mNone\u001b[0m\u001b[1;33m,\u001b[0m \u001b[0mpending\u001b[0m\u001b[1;33m=\u001b[0m\u001b[1;32mFalse\u001b[0m\u001b[1;33m)\u001b[0m\u001b[1;33m:\u001b[0m\u001b[1;33m\u001b[0m\u001b[1;33m\u001b[0m\u001b[0m\n",
      "\u001b[1;32m~\\Anaconda3\\lib\\site-packages\\facebook_business\\api.py\u001b[0m in \u001b[0;36mexecute\u001b[1;34m(self)\u001b[0m\n\u001b[0;32m    675\u001b[0m                 \u001b[0mendpoint\u001b[0m\u001b[1;33m=\u001b[0m\u001b[0mself\u001b[0m\u001b[1;33m.\u001b[0m\u001b[0m_endpoint\u001b[0m\u001b[1;33m,\u001b[0m\u001b[1;33m\u001b[0m\u001b[1;33m\u001b[0m\u001b[0m\n\u001b[0;32m    676\u001b[0m             )\n\u001b[1;32m--> 677\u001b[1;33m             \u001b[0mcursor\u001b[0m\u001b[1;33m.\u001b[0m\u001b[0mload_next_page\u001b[0m\u001b[1;33m(\u001b[0m\u001b[1;33m)\u001b[0m\u001b[1;33m\u001b[0m\u001b[1;33m\u001b[0m\u001b[0m\n\u001b[0m\u001b[0;32m    678\u001b[0m             \u001b[1;32mreturn\u001b[0m \u001b[0mcursor\u001b[0m\u001b[1;33m\u001b[0m\u001b[1;33m\u001b[0m\u001b[0m\n\u001b[0;32m    679\u001b[0m         \u001b[1;32mif\u001b[0m \u001b[0mself\u001b[0m\u001b[1;33m.\u001b[0m\u001b[0m_fields\u001b[0m\u001b[1;33m:\u001b[0m\u001b[1;33m\u001b[0m\u001b[1;33m\u001b[0m\u001b[0m\n",
      "\u001b[1;32m~\\Anaconda3\\lib\\site-packages\\facebook_business\\api.py\u001b[0m in \u001b[0;36mload_next_page\u001b[1;34m(self)\u001b[0m\n\u001b[0;32m    842\u001b[0m             \u001b[1;34m'GET'\u001b[0m\u001b[1;33m,\u001b[0m\u001b[1;33m\u001b[0m\u001b[1;33m\u001b[0m\u001b[0m\n\u001b[0;32m    843\u001b[0m             \u001b[0mself\u001b[0m\u001b[1;33m.\u001b[0m\u001b[0m_path\u001b[0m\u001b[1;33m,\u001b[0m\u001b[1;33m\u001b[0m\u001b[1;33m\u001b[0m\u001b[0m\n\u001b[1;32m--> 844\u001b[1;33m             \u001b[0mparams\u001b[0m\u001b[1;33m=\u001b[0m\u001b[0mself\u001b[0m\u001b[1;33m.\u001b[0m\u001b[0mparams\u001b[0m\u001b[1;33m,\u001b[0m\u001b[1;33m\u001b[0m\u001b[1;33m\u001b[0m\u001b[0m\n\u001b[0m\u001b[0;32m    845\u001b[0m         )\n\u001b[0;32m    846\u001b[0m         \u001b[0mresponse\u001b[0m \u001b[1;33m=\u001b[0m \u001b[0mresponse_obj\u001b[0m\u001b[1;33m.\u001b[0m\u001b[0mjson\u001b[0m\u001b[1;33m(\u001b[0m\u001b[1;33m)\u001b[0m\u001b[1;33m\u001b[0m\u001b[1;33m\u001b[0m\u001b[0m\n",
      "\u001b[1;32m~\\Anaconda3\\lib\\site-packages\\facebook_business\\api.py\u001b[0m in \u001b[0;36mcall\u001b[1;34m(self, method, path, params, headers, files, url_override, api_version)\u001b[0m\n\u001b[0;32m    348\u001b[0m \u001b[1;33m\u001b[0m\u001b[0m\n\u001b[0;32m    349\u001b[0m         \u001b[1;32mif\u001b[0m \u001b[0mfb_response\u001b[0m\u001b[1;33m.\u001b[0m\u001b[0mis_failure\u001b[0m\u001b[1;33m(\u001b[0m\u001b[1;33m)\u001b[0m\u001b[1;33m:\u001b[0m\u001b[1;33m\u001b[0m\u001b[1;33m\u001b[0m\u001b[0m\n\u001b[1;32m--> 350\u001b[1;33m             \u001b[1;32mraise\u001b[0m \u001b[0mfb_response\u001b[0m\u001b[1;33m.\u001b[0m\u001b[0merror\u001b[0m\u001b[1;33m(\u001b[0m\u001b[1;33m)\u001b[0m\u001b[1;33m\u001b[0m\u001b[1;33m\u001b[0m\u001b[0m\n\u001b[0m\u001b[0;32m    351\u001b[0m \u001b[1;33m\u001b[0m\u001b[0m\n\u001b[0;32m    352\u001b[0m         \u001b[0mself\u001b[0m\u001b[1;33m.\u001b[0m\u001b[0m_num_requests_succeeded\u001b[0m \u001b[1;33m+=\u001b[0m \u001b[1;36m1\u001b[0m\u001b[1;33m\u001b[0m\u001b[1;33m\u001b[0m\u001b[0m\n",
      "\u001b[1;31mFacebookRequestError\u001b[0m: \n\n  Message: Call was not successful\n  Method:  GET\n  Path:    https://graph.facebook.com/v12.0/23845610368060171/insights\n  Params:  {'date_preset': 'yesterday', 'fields': '[\"Campaign name\"]'}\n\n  Status:  400\n  Response:\n    {\n      \"error\": {\n        \"message\": \"Syntax error \\\"Expected end of string instead of \\\"n\\\".\\\" at character 9: Campaign name\",\n        \"type\": \"OAuthException\",\n        \"code\": 2500,\n        \"fbtrace_id\": \"ANuwWMHEuMfx3Krtla-ebGm\"\n      }\n    }\n"
     ]
    }
   ],
   "source": [
    "from facebook_business.api import FacebookAdsApi\n",
    "from facebook_business.adobjects.adaccount import AdAccount\n",
    "from facebook_business.adobjects.campaign import Campaign\n",
    "app_id = \"4105809612881349\"\n",
    "app_secret =\"b56b524bcdc71de0c8183269b5d17b4a\"\n",
    "access_token = \"EAA6WNkt9vcUBAI6ykfr5tVMJXB8pgyfKOnTCe4EBmQGRd1z1PDEHTgh5Yfxn4XDr6ZC7qdcpwbizDqtZAGJSFH53L1IaLXiZAtJXoFFCNTdaYiAwLP1omYSzx0hwrPPpl9ZCpMo92QFJ5UDNG8gnnQKz9G2SHs8ZCMM1ryeAIA3HBY87rZC3qtNr6O02JOHhAZD\"\n",
    "FacebookAdsApi.init(app_id, app_secret, access_token)\n",
    "my_account = AdAccount('act_544627553005689')\n",
    "\n",
    "campaign = Campaign(\"23845610368060171\")\n",
    "params = {\n",
    "    'date_preset': 'yesterday',\n",
    "    'fields': ['Campaign name']}\n",
    "response = campaign.get_insights(params=params)\n",
    "print(response)"
   ]
  },
  {
   "cell_type": "code",
   "execution_count": 6,
   "metadata": {},
   "outputs": [
    {
     "name": "stdout",
     "output_type": "stream",
     "text": [
      "[]\n"
     ]
    }
   ],
   "source": [
    "from facebook_business.adobjects.adaccount import AdAccount\n",
    "from facebook_business.adobjects.campaign import Campaign\n",
    "from facebook_business.api import FacebookAdsApi\n",
    "\n",
    "app_id =app_id\n",
    "app_secret = app_secret\n",
    "access_token = access_token\n",
    "\n",
    "campaign = Campaign('23848217213320171')\n",
    "\n",
    "insights = campaign.get_insights()\n",
    "print(insights)\n"
   ]
  },
  {
   "cell_type": "code",
   "execution_count": 9,
   "metadata": {},
   "outputs": [],
   "source": [
    "# Import all the facebook mumbo jumbo\n",
    "from facebookads.api import FacebookAdsApi\n",
    "from facebook_business.adobjects.adsinsights import AdsInsights\n",
    "from facebook_business.adobjects.adaccount import AdAccount\n",
    "from facebook_business.adobjects.business import Business"
   ]
  },
  {
   "cell_type": "code",
   "execution_count": 15,
   "metadata": {},
   "outputs": [
    {
     "name": "stdout",
     "output_type": "stream",
     "text": [
      "19 rows added to the file 10-04-2021_fb.csv\n"
     ]
    }
   ],
   "source": [
    "# Import th csv writer and the date/time function\n",
    "import datetime\n",
    "import csv\n",
    "\n",
    "# Set the info to get connected to the API. Do NOT share this info\n",
    "my_app_id = app_id\n",
    "my_app_secret = app_secret\n",
    "my_access_token = access_token\n",
    "\n",
    "# Start the connection to the facebook API\n",
    "FacebookAdsApi.init(my_app_id, my_app_secret, my_access_token)\n",
    "\n",
    "# Create a business object for the business account\n",
    "business = Business('112897326599021')\n",
    "\n",
    "# Get yesterday's date for the filename, and the csv data\n",
    "yesterdaybad = datetime.datetime.now() - datetime.timedelta(days=1)\n",
    "yesterdayslash = yesterdaybad.strftime('%m/%d/%Y')\n",
    "yesterdayhyphen = yesterdaybad.strftime('%m-%d-%Y')\n",
    "\n",
    "# Define the destination filename\n",
    "filename = yesterdayhyphen + '_fb.csv'\n",
    "\n",
    "\n",
    "# Open or create new file \n",
    "try:\n",
    "    csvfile = open(filename , 'w+')\n",
    "except:\n",
    "    print (\"Cannot open file.\")\n",
    "\n",
    "\n",
    "# To keep track of rows added to file\n",
    "rows = 0\n",
    "\n",
    "try:\n",
    "    # Create file writer\n",
    "    filewriter = csv.writer(csvfile, delimiter=',')\n",
    "except Exception as err:\n",
    "    print(err)\n",
    "\n",
    "\n",
    "# Get all ad accounts on the business account\n",
    "accounts = business.get_owned_ad_accounts(fields=[AdAccount.Field.id])\n",
    "\n",
    "\n",
    "\n",
    "# Iterate through the adaccounts\n",
    "for account in accounts:\n",
    "    # Create an addaccount object from the adaccount id to make it possible to get insights\n",
    "    tempaccount = AdAccount(account[AdAccount.Field.id])\n",
    "\n",
    "    # Grab insight info for all ads in the adaccount\n",
    "    ads = tempaccount.get_insights(params={'date_preset':'yesterday',\n",
    "                                           'level':'ad'\n",
    "                                          },\n",
    "                                   fields=[AdsInsights.Field.account_id,\n",
    "                       AdsInsights.Field.account_name,\n",
    "                                           AdsInsights.Field.ad_id,\n",
    "                                           AdsInsights.Field.ad_name,\n",
    "                                           AdsInsights.Field.adset_id,\n",
    "                                           AdsInsights.Field.adset_name,\n",
    "                                           AdsInsights.Field.campaign_id,\n",
    "                                           AdsInsights.Field.campaign_name,\n",
    "                                           AdsInsights.Field.cost_per_outbound_click,\n",
    "                                           AdsInsights.Field.outbound_clicks,\n",
    "                                           AdsInsights.Field.spend\n",
    "                                          ]\n",
    "    );\n",
    "\n",
    "    # Iterate through all accounts in the business account\n",
    "    for ad in ads:\n",
    "        # Set default values in case the insight info is empty\n",
    "        date = yesterdayslash\n",
    "        accountid = ad[AdsInsights.Field.account_id]\n",
    "        accountname = \"\"\n",
    "        adid = \"\"\n",
    "        adname = \"\"\n",
    "        adsetid = \"\"\n",
    "        adsetname = \"\"\n",
    "        campaignid = \"\"\n",
    "        campaignname = \"\"\n",
    "        costperoutboundclick = \"\"\n",
    "        outboundclicks = \"\"\n",
    "        spend = \"\"\n",
    "\n",
    "        # Set values from insight data\n",
    "        if ('account_id' in ad) :\n",
    "            accountid = ad[AdsInsights.Field.account_id]\n",
    "        if ('account_name' in ad) :\n",
    "            accountname = ad[AdsInsights.Field.account_name]\n",
    "        if ('ad_id' in ad) :\n",
    "            adid = ad[AdsInsights.Field.ad_id]\n",
    "        if ('ad_name' in ad) :\n",
    "            adname = ad[AdsInsights.Field.ad_name]\n",
    "        if ('adset_id' in ad) :\n",
    "            adsetid = ad[AdsInsights.Field.adset_id]\n",
    "        if ('adset_name' in ad) :\n",
    "            adsetname = ad[AdsInsights.Field.adset_name]\n",
    "        if ('campaign_id' in ad) :\n",
    "            campaignid = ad[AdsInsights.Field.campaign_id]\n",
    "        if ('campaign_name' in ad) :\n",
    "            campaignname = ad[AdsInsights.Field.campaign_name]\n",
    "        if ('cost_per_outbound_click' in ad) : # This is stored strangely, takes a few steps to break through the layers\n",
    "            costperoutboundclicklist = ad[AdsInsights.Field.cost_per_outbound_click]\n",
    "            costperoutboundclickdict = costperoutboundclicklist[0]\n",
    "            costperoutboundclick = costperoutboundclickdict.get('value')\n",
    "        if ('outbound_clicks' in ad) : # This is stored strangely, takes a few steps to break through the layers\n",
    "            outboundclickslist = ad[AdsInsights.Field.outbound_clicks]\n",
    "            outboundclicksdict = outboundclickslist[0]\n",
    "            outboundclicks = outboundclicksdict.get('value')\n",
    "        if ('spend' in ad) :\n",
    "            spend = ad[AdsInsights.Field.spend]\n",
    "\n",
    "        # Write all ad info to the file, and increment the number of rows that will display\n",
    "         # Write all ad info to the file, and increment the number of rows that will display\n",
    "        filewriter.writerow([date, accountid, accountname, adid, adname, adsetid, adsetname, campaignid, campaignname, costperoutboundclick, outboundclicks, spend])\n",
    "        rows += 1\n",
    "\n",
    "\n",
    "csvfile.close()\n",
    "\n",
    "# Print report\n",
    "print (str(rows) + \" rows added to the file \" + filename)\n",
    "\n",
    "\n",
    "\n"
   ]
  },
  {
   "cell_type": "code",
   "execution_count": 14,
   "metadata": {},
   "outputs": [
    {
     "data": {
      "text/plain": [
       "<AdAccount> {\n",
       "    \"id\": \"act_544627553005689\"\n",
       "}"
      ]
     },
     "execution_count": 14,
     "metadata": {},
     "output_type": "execute_result"
    }
   ],
   "source": [
    "account"
   ]
  },
  {
   "cell_type": "code",
   "execution_count": null,
   "metadata": {},
   "outputs": [],
   "source": []
  }
 ],
 "metadata": {
  "kernelspec": {
   "display_name": "Python 3",
   "language": "python",
   "name": "python3"
  },
  "language_info": {
   "codemirror_mode": {
    "name": "ipython",
    "version": 3
   },
   "file_extension": ".py",
   "mimetype": "text/x-python",
   "name": "python",
   "nbconvert_exporter": "python",
   "pygments_lexer": "ipython3",
   "version": "3.7.4"
  }
 },
 "nbformat": 4,
 "nbformat_minor": 4
}
