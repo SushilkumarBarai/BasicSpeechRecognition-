{
 "cells": [
  {
   "cell_type": "code",
   "execution_count": 8,
   "metadata": {},
   "outputs": [
    {
     "name": "stdout",
     "output_type": "stream",
     "text": [
      "How can i help you\n",
      "what is your name\n",
      "My name is Alexa\n"
     ]
    }
   ],
   "source": [
    "#conda install -c anaconda pyaudio\n",
    "import speech_recognition as sr\n",
    "import pyaudio\n",
    "\n",
    "r=sr.Recognizer()\n",
    "\n",
    "def record_audio():\n",
    "    with sr.Microphone() as source:\n",
    "        audio=r.listen(source)\n",
    "        voice_data=''\n",
    "        try:\n",
    "            voice_data=r.recognize_google(audio)\n",
    "            #print(voice_data)\n",
    "        except sr.UnknownValueError:\n",
    "            print('Sorry I did not get that')\n",
    "        except sr.RequestError:\n",
    "            print('Sorry Speech Service Down')\n",
    "        return voice_data\n",
    "    \n",
    "    \n",
    "def respond(voice_data):\n",
    "    if 'what is your name' in voice_data:\n",
    "        print(\"My name is Alexa\")\n",
    "    \n",
    "    \n",
    "print(\"How can i help you\")\n",
    "voice_data=record_audio()\n",
    "print(voice_data)\n",
    "respond(voice_data)\n"
   ]
  },
  {
   "cell_type": "code",
   "execution_count": null,
   "metadata": {},
   "outputs": [],
   "source": []
  },
  {
   "cell_type": "code",
   "execution_count": null,
   "metadata": {},
   "outputs": [],
   "source": []
  },
  {
   "cell_type": "code",
   "execution_count": null,
   "metadata": {},
   "outputs": [],
   "source": []
  },
  {
   "cell_type": "code",
   "execution_count": null,
   "metadata": {},
   "outputs": [],
   "source": []
  }
 ],
 "metadata": {
  "kernelspec": {
   "display_name": "Python 3",
   "language": "python",
   "name": "python3"
  },
  "language_info": {
   "codemirror_mode": {
    "name": "ipython",
    "version": 3
   },
   "file_extension": ".py",
   "mimetype": "text/x-python",
   "name": "python",
   "nbconvert_exporter": "python",
   "pygments_lexer": "ipython3",
   "version": "3.7.4"
  }
 },
 "nbformat": 4,
 "nbformat_minor": 2
}
